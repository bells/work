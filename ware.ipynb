{
 "cells": [
  {
   "cell_type": "code",
   "execution_count": 2,
   "metadata": {
    "collapsed": false,
    "scrolled": false
   },
   "outputs": [
    {
     "data": {
      "text/plain": [
       "{'from': 0,\n",
       " 'query': {'bool': {'disable_coord': True,\n",
       "   'should': [{'constant_score': {'boost': 1.0,\n",
       "      'query': {'match': {'name': {'operator': 'or',\n",
       "         'query': '\\xe7\\x8e\\x9b\\xe5\\xb0\\x94\\xe6\\x96\\xaf'}}}}},\n",
       "    {'constant_score': {'boost': 0.2,\n",
       "      'query': {'match': {'short_name': {'operator': 'or',\n",
       "         'query': '\\xe7\\x8e\\x9b\\xe5\\xb0\\x94\\xe6\\x96\\xaf'}}}}},\n",
       "    {'constant_score': {'boost': 0.1,\n",
       "      'query': {'match': {'short_intro': {'operator': 'or',\n",
       "         'query': '\\xe7\\x8e\\x9b\\xe5\\xb0\\x94\\xe6\\x96\\xaf'}}}}}]}},\n",
       " 'size': 200,\n",
       " 'sort': [{'_script': {'lang': 'groovy',\n",
       "    'order': 'desc',\n",
       "    'script': \"_score * 68.0 + doc['display_score'].value * 0.5 + doc['sale_score'].value * 0.3 + doc['comment_score'].value * 0.2\",\n",
       "    'type': 'number'}}]}"
      ]
     },
     "metadata": {},
     "output_type": "display_data"
    },
    {
     "data": {
      "text/html": [
       "<br><br><table><tr><th>#</th><th>ID</th><th>标题</th><th>短标题</th><th>短描述</th><th>销量分数</th><th>点评分数</th><th>设置的分数</th><th>ES分数 * 68.0</th><th>ES分数</th><th>最后的分数</th><th>解释</th><tr><td>1</td><td>956</td><td>【五月热恋】爱尔兰 MaxFactor 蜜丝佛陀透滑粉饼 10G<78包邮></td><td>蜜丝佛陀透滑粉饼</td><td>控油遮瑕轻透裸妆</td><td>99</td><td>100</td><td>0</td><td>66.3612077236</td><td>0.975900113583</td><td>116.061207724</td><td>0.9759001</td><tr><td>2</td><td>909</td><td>爱尔兰 MaxFactor蜜丝佛陀经典水润粉底霜/水漾魔幻触感粉底霜 11.5G<78包邮></td><td>蜜丝佛陀经典水润粉底</td><td>3态魔幻触感粉底</td><td>97</td><td>100</td><td>0</td><td>66.3612077236</td><td>0.975900113583</td><td>115.461207724</td><td>0.9759001</td><tr><td>3</td><td>894</td><td>【Angelababy的美啦，你的美啦】爱尔兰 Maxfactor蜜丝佛陀水漾魔幻触感粉底霜40号象牙色11.5g  7</td><td>蜜丝佛陀魔幻粉底霜</td><td>美币抵现后只需59元</td><td>97</td><td>100</td><td>0</td><td>66.3612077236</td><td>0.975900113583</td><td>115.461207724</td><td>0.9759001</td><tr><td>4</td><td>2129</td><td>LilyBell 丽丽贝尔化妆棉 222片/ 222片*2<最低19包邮></td><td>丽丽贝尔化妆棉222片</td><td>为你的保养锦上添花</td><td>38</td><td>100</td><td>0</td><td>79.6334476471</td><td>1.17108011246</td><td>111.033447647</td><td>0.9759001, 0.19518003</td><tr><td>5</td><td>994</td><td>【五月热恋】爱尔兰 MaxFactor 蜜丝佛陀 魅惑润泽修护唇膏 3.5G<88包邮></td><td>蜜丝佛陀魅惑润泽唇膏</td><td>色泽艳丽 持久水嫩</td><td>100</td><td>70</td><td>0</td><td>66.3612077236</td><td>0.975900113583</td><td>110.361207724</td><td>0.9759001</td><tr><td>6</td><td>2856</td><td>韩国RECIPE菜斯璧水晶透明防晒喷雾150ml 68包邮</td><td>菜斯璧水晶防晒喷雾</td><td>防晒防水防汗定妆保湿</td><td>62</td><td>60</td><td>0</td><td>79.6334476471</td><td>1.17108011246</td><td>110.233447647</td><td>0.9759001, 0.19518003</td><tr><td>7</td><td>2005</td><td>【9块9换购】法国普罗旺斯甜甜圈洗发皂红色/绿色/白色 三色可选 85g</td><td>法国普罗旺斯洗发皂</td><td>天然无添加洗发皂</td><td>34</td><td>100</td><td>0</td><td>79.6334476471</td><td>1.17108011246</td><td>109.833447647</td><td>0.9759001, 0.19518003</td><tr><td>8</td><td>968</td><td>【五月热恋】爱尔兰 MaxFactor 蜜丝佛陀 双彩随心配润泽唇膏 2.5G*2<89包邮></td><td>蜜丝佛陀双彩润泽唇膏</td><td>高效滋润 百变唇色</td><td>99</td><td>68</td><td>0</td><td>66.3612077236</td><td>0.975900113583</td><td>109.661207724</td><td>0.9759001</td><tr><td>9</td><td>2776</td><td>日本吉尔•斯图尔特四色腮红8g1#/5# 多款可选  238包邮</td><td>吉尔•斯图尔特腮红</td><td>打造粉嫩好气色</td><td>59</td><td>60</td><td>0</td><td>79.6334476471</td><td>1.17108011246</td><td>109.333447647</td><td>0.9759001, 0.19518003</td><tr><td>10</td><td>2726</td><td>法国Bioderma贝德玛舒妍温和卸妆水 500ml <115元包邮></td><td>贝德玛卸妆水</td><td>卸除彩妆 温和清洁</td><td>58</td><td>60</td><td>0</td><td>79.6334476471</td><td>1.17108011246</td><td>109.033447647</td><td>0.9759001, 0.19518003</td><tr><td>11</td><td>2732</td><td>德国进口爱姬玛琳蜜桃香氛沐浴露150ml  <49元包邮></td><td>德国爱姬玛琳沐浴露</td><td>甜蜜花果香调</td><td>58</td><td>60</td><td>0</td><td>79.6334476471</td><td>1.17108011246</td><td>109.033447647</td><td>0.9759001, 0.19518003</td><tr><td>12</td><td>2389</td><td>【Angelababy的美啦，你的美啦】法国贝德玛洁肤液蓝水/粉水500ml 多款可选  108包邮</td><td>贝德玛洁肤液</td><td>清洁卸妆合一</td><td>46</td><td>78</td><td>0</td><td>79.6334476471</td><td>1.17108011246</td><td>109.033447647</td><td>0.9759001, 0.19518003</td><tr><td>13</td><td>967</td><td>【性感魅惑】爱尔兰 MaxFactor 蜜丝佛陀 魅惑润泽修护唇膏 3.5G<88包邮></td><td>蜜丝佛陀魅惑润泽唇膏</td><td>缔造艳丽性感魅惑双唇</td><td>99</td><td>62</td><td>0</td><td>66.3612077236</td><td>0.975900113583</td><td>108.461207724</td><td>0.9759001</td><tr><td>14</td><td>955</td><td>【定妆圣品】爱尔兰 MaxFactor 蜜丝佛陀透滑粉饼 10G<78包邮></td><td>蜜丝佛陀透滑粉饼</td><td>控油遮瑕 轻透裸妆</td><td>99</td><td>60</td><td>0</td><td>66.3612077236</td><td>0.975900113583</td><td>108.061207724</td><td>0.9759001</td><tr><td>15</td><td>2369</td><td>中国SWEET PINK粉色安琪 甜心慕斯粉饼 7g〈35元包邮〉</td><td>粉色安琪甜心慕斯粉饼</td><td>清爽控油 轻盈贴肤</td><td>46</td><td>60</td><td>0</td><td>79.6334476471</td><td>1.17108011246</td><td>105.433447647</td><td>0.9759001, 0.19518003</td><tr><td>16</td><td>2284</td><td>贝佳斯矿物营养活肤泥浆面膜 （绿泥）   <113元包邮></td><td>意大利贝佳斯矿物面膜</td><td>温泉的火山泥浆</td><td>43</td><td>60</td><td>0</td><td>79.6334476471</td><td>1.17108011246</td><td>104.533447647</td><td>0.9759001, 0.19518003</td><tr><td>17</td><td>2229</td><td>【海淘】日本Albion奥尔滨爽肤精萃液/奥尔滨健康水< 455元起包邮 ></td><td>日本奥尔滨健康水</td><td>拯救问题肌肤的明星水</td><td>41</td><td>60</td><td>0</td><td>79.6334476471</td><td>1.17108011246</td><td>103.933447647</td><td>0.9759001, 0.19518003</td><tr><td>18</td><td>2230</td><td>【海淘】日本ALBION奥尔滨清新莹白渗透乳200ml< 415元起包邮 ></td><td>日本奥尔滨莹白渗透乳</td><td>打开肌肤吸收之门</td><td>41</td><td>60</td><td>0</td><td>79.6334476471</td><td>1.17108011246</td><td>103.933447647</td><td>0.9759001, 0.19518003</td><tr><td>19</td><td>2050</td><td>山东大樱桃”拉宾斯“优质车厘子3斤<128元包空运></td><td>山东烟台大樱桃拉宾斯</td><td>美容圣果 天然面膜</td><td>35</td><td>64</td><td>0</td><td>79.6334476471</td><td>1.17108011246</td><td>102.933447647</td><td>0.9759001, 0.19518003</td><tr><td>20</td><td>2035</td><td>【海淘】日本纳贝斯克NABISCO RITZ 芝士饼干39枚<35起包邮></td><td>日本纳贝斯克 芝士饼干</td><td>层层松脆乐趣无穷</td><td>35</td><td>62</td><td>0</td><td>79.6334476471</td><td>1.17108011246</td><td>102.533447647</td><td>0.9759001, 0.19518003</td><tr><td>21</td><td>2028</td><td>山东大樱桃”拉宾斯“优质车厘子3斤<128元包空运></td><td>山东大樱桃拉宾斯</td><td>补铁补血补钙补维生素</td><td>35</td><td>60</td><td>0</td><td>79.6334476471</td><td>1.17108011246</td><td>102.133447647</td><td>0.9759001, 0.19518003</td><tr><td>22</td><td>2049</td><td>山东大樱桃”拉宾斯“优质车厘子3斤<128元包空运></td><td>山东烟台大樱桃拉宾斯</td><td>补贴补血补钙补维生素</td><td>35</td><td>60</td><td>0</td><td>79.6334476471</td><td>1.17108011246</td><td>102.133447647</td><td>0.9759001, 0.19518003</td><tr><td>23</td><td>3375</td><td>阿斯顿撒旦</td><td>阿萨达阿萨达</td><td>阿萨达阿萨达阿萨d</td><td>78</td><td>60</td><td>0</td><td>66.3612077236</td><td>0.975900113583</td><td>101.761207724</td><td>0.9759001</td><tr><td>24</td><td>1924</td><td>Marvis玛尔斯  美白薄荷牙膏</td><td>Marvis玛尔斯牙</td><td>牙膏中的爱马仕</td><td>31</td><td>60</td><td>0</td><td>79.6334476471</td><td>1.17108011246</td><td>100.933447647</td><td>0.9759001, 0.19518003</td><tr><td>25</td><td>3307</td><td>英国Dimples杜碧丝 脱毛喷雾 柠檬味 200ml 慕斯质地 轻松脱毛</td><td></td><td></td><td>75</td><td>60</td><td>0</td><td>66.3612077236</td><td>0.975900113583</td><td>100.861207724</td><td>0.9759001</td><tr><td>26</td><td>3309</td><td>英国Dimples杜碧丝 脱毛喷雾 玫瑰味 200ml 慕斯质地 轻松脱毛</td><td></td><td></td><td>75</td><td>60</td><td>0</td><td>66.3612077236</td><td>0.975900113583</td><td>100.861207724</td><td>0.9759001</td><tr><td>27</td><td>3262</td><td>意大利Marvis马尔斯牙膏75ml （蓝色海洋薄荷，口气清新 ）</td><td></td><td></td><td>74</td><td>60</td><td>0</td><td>66.3612077236</td><td>0.975900113583</td><td>100.561207724</td><td>0.9759001</td><tr><td>28</td><td>3263</td><td>意大利Marvis马尔斯牙膏75ml（黑色甘草薄荷，有益喉咙）</td><td></td><td></td><td>74</td><td>60</td><td>0</td><td>66.3612077236</td><td>0.975900113583</td><td>100.561207724</td><td>0.9759001</td><tr><td>29</td><td>1311</td><td>【美啦闪购仅限一天】法国BIODERMA贝德玛卸妆水普通粉水|特润粉水|蓝水三选一<最低108包邮></td><td>贝德玛卸妆水</td><td>开创卸妆新“净”界</td><td>11</td><td>88</td><td>0</td><td>79.6334476471</td><td>1.17108011246</td><td>100.533447647</td><td>0.9759001, 0.19518003</td><tr><td>30</td><td>1728</td><td>玛贝拉爱慕丝滑脱毛膏套装大马士革玫瑰60g+60ml < 最低26元包邮></td><td>玛贝拉丝滑脱毛膏套装</td><td>享受无暇丝滑美肌</td><td>25</td><td>67</td><td>0</td><td>79.6334476471</td><td>1.17108011246</td><td>100.533447647</td><td>0.9759001, 0.19518003</td><tr><td>31</td><td>1798</td><td>【海淘】韩国MEDIHERL可莱斯NMF针剂水库面膜10片/盒 <100元起包邮></td><td>韩国可莱斯水库面膜</td><td>韩国第一药妆面膜</td><td>27</td><td>62</td><td>0</td><td>79.6334476471</td><td>1.17108011246</td><td>100.133447647</td><td>0.9759001, 0.19518003</td><tr><td>32</td><td>3195</td><td>法国Bioderma贝德玛 舒妍温和保湿卸妆水 500ml 温和卸妆 深层清洁</td><td></td><td></td><td>72</td><td>60</td><td>0</td><td>66.3612077236</td><td>0.975900113583</td><td>99.9612077236</td><td>0.9759001</td><tr><td>33</td><td>3206</td><td>法国Bioderma贝德玛 舒妍卸妆水 粉水 中干皮肤用500ml 温和卸妆 深层洁净</td><td></td><td></td><td>72</td><td>60</td><td>0</td><td>66.3612077236</td><td>0.975900113583</td><td>99.9612077236</td><td>0.9759001</td><tr><td>34</td><td>1797</td><td>【海淘】韩国MEDIHERL可莱斯NMF针剂水库面膜10片/盒<90元包邮></td><td>可莱斯水库面膜</td><td>韩国第一药妆面膜</td><td>27</td><td>60</td><td>0</td><td>79.6334476471</td><td>1.17108011246</td><td>99.7334476471</td><td>0.9759001, 0.19518003</td><tr><td>35</td><td>3186</td><td>德国Salus莎露斯 Floradix铁元红版 液浓缩口服液500ml 孕妇补铁补血果蔬营养</td><td></td><td></td><td>71</td><td>60</td><td>0</td><td>66.3612077236</td><td>0.975900113583</td><td>99.6612077236</td><td>0.9759001</td><tr><td>36</td><td>370</td><td>【爆款】法国 Bioderma贝德玛洁肤液蓝水/粉水500ml两款可选<112包邮></td><td>贝德玛洁肤液</td><td>清洁卸妆合一</td><td>0</td><td>100</td><td>0</td><td>79.6334476471</td><td>1.17108011246</td><td>99.6334476471</td><td>0.9759001, 0.19518003</td><tr><td>37</td><td>813</td><td>【5月18日开售】韩国 numandy's 纽曼迪斯脱毛贴布蜡纸<89包邮></td><td>纽曼迪斯脱毛贴10对</td><td>轻松的脱毛专家</td><td>0</td><td>100</td><td>0</td><td>79.6334476471</td><td>1.17108011246</td><td>99.6334476471</td><td>0.9759001, 0.19518003</td><tr><td>38</td><td>172</td><td>美国Kiehl’s契尔氏高保湿霜50ml <189包邮></td><td>契尔氏高保湿霜</td><td>保湿界的战斗机</td><td>0</td><td>100</td><td>0</td><td>79.6334476471</td><td>1.17108011246</td><td>99.6334476471</td><td>0.9759001, 0.19518003</td><tr><td>39</td><td>1034</td><td>JUNPING橙净无忧氨基酸控油洁面慕斯135ml <90元包邮></td><td>俊平橙净洁面慕斯</td><td>让你快乐的洁面慕斯</td><td>2</td><td>62</td><td>0</td><td>86.2695736885</td><td>1.2686702013</td><td>99.2695736885</td><td>0.9759001, 0.19518003, 0.097590014</td><tr><td>40</td><td>1647</td><td>Miss Candy健康指彩 凡尔赛花园系列 16ml <55包邮></td><td>糖果小姐凡尔赛花园</td><td>无毒无味健康可剥</td><td>22</td><td>62</td><td>0</td><td>79.6334476471</td><td>1.17108011246</td><td>98.6334476471</td><td>0.9759001, 0.19518003</td><tr><td>41</td><td>383</td><td>【奢华美】日本吉尔•斯图尔特四色腮红8g1#/5# 多款可选  238包邮 </td><td>吉尔•斯图尔特腮红</td><td>打造粉嫩好气色 </td><td>0</td><td>90</td><td>0</td><td>79.6334476471</td><td>1.17108011246</td><td>97.6334476471</td><td>0.9759001, 0.19518003</td><tr><td>42</td><td>438</td><td>美国Borghese贝佳斯 矿物营养泥浆膜(绿泥)200ml<99包邮></td><td>贝佳斯 矿物绿泥面膜</td><td>给你的毛孔大扫除</td><td>0</td><td>82</td><td>0</td><td>79.6334476471</td><td>1.17108011246</td><td>96.0334476471</td><td>0.9759001, 0.19518003</td><tr><td>43</td><td>545</td><td>【五月热恋】德国 Algemarin 爱姬玛琳香水沐浴露（300ml、150ml）三选一<最低42包邮></td><td>爱姬玛琳香水沐浴露</td><td>全球香水洗护销量冠军</td><td>0</td><td>82</td><td>0</td><td>79.6334476471</td><td>1.17108011246</td><td>96.0334476471</td><td>0.9759001, 0.19518003</td><tr><td>44</td><td>2754</td><td>德芙/好时/瑞特斯波德（德国运动）多口味组合装巧克力礼盒600g紫色包装<99元顺丰包邮></td><td>巧克力礼盒</td><td>多口味一次满足~</td><td>58</td><td>60</td><td>0</td><td>66.3612077236</td><td>0.975900113583</td><td>95.7612077236</td><td>0.9759001</td><tr><td>45</td><td>548</td><td>韩国Etude house爱丽小屋慕斯染色唇彩三选一10g <58包邮></td><td>爱丽小屋慕斯染色唇彩</td><td>挡不住的唇色诱惑</td><td>0</td><td>80</td><td>0</td><td>79.6334476471</td><td>1.17108011246</td><td>95.6334476471</td><td>0.9759001, 0.19518003</td><tr><td>46</td><td>351</td><td>【美啦女生节】意大利Moschino莫斯奇诺女士香水初春甜蜜来袭 五选一 <49包邮></td><td>莫斯奇诺 女士香水</td><td>小瓶身有大能量</td><td>0</td><td>80</td><td>0</td><td>79.6334476471</td><td>1.17108011246</td><td>95.6334476471</td><td>0.9759001, 0.19518003</td><tr><td>47</td><td>1274</td><td>Miss Candy健康指彩 卡梅尔栗色彩点 16ml<55包邮></td><td>卡梅尔栗色彩点</td><td>五毒无味健康可剥</td><td>10</td><td>60</td><td>0</td><td>79.6334476471</td><td>1.17108011246</td><td>94.6334476471</td><td>0.9759001, 0.19518003</td><tr><td>48</td><td>2631</td><td>【海淘】日本医食同源RICH弗斯克林左旋肉碱营养片40粒<79元包邮></td><td>日本医食同源营养片</td><td>让你轻松拥有小蛮腰</td><td>54</td><td>60</td><td>0</td><td>66.3612077236</td><td>0.975900113583</td><td>94.5612077236</td><td>0.9759001</td><tr><td>49</td><td>745</td><td>【海淘专场】日本 Albion澳尔滨清新莹白渗透乳200ml/110ml 二选一<最低299元起包邮></td><td>日本澳尔滨渗透乳</td><td>肌肤的健康水</td><td>0</td><td>68</td><td>0</td><td>79.6334476471</td><td>1.17108011246</td><td>93.2334476471</td><td>0.9759001, 0.19518003</td><tr><td>50</td><td>556</td><td>【五月热恋】莫斯奇诺女士香水小样（2款可选）小样<最低45包邮></td><td>莫斯奇诺女士香水</td><td>热恋般的甜蜜诱惑</td><td>0</td><td>68</td><td>0</td><td>79.6334476471</td><td>1.17108011246</td><td>93.2334476471</td><td>0.9759001, 0.19518003</td><tr><td>51</td><td>2100</td><td>【海淘】韩国mymi玛伊美大肚子瘦腹减肥贴 5片 <69元起包邮></td><td>韩国mymi瘦腹贴</td><td>让夏天秀出你的小蛮腰</td><td>37</td><td>78</td><td>0</td><td>66.3612077236</td><td>0.975900113583</td><td>93.0612077236</td><td>0.9759001</td><tr><td>52</td><td>742</td><td>【海淘专场】日本 Albion澳尔滨药用化妆水 健康水 110ml <260包邮></td><td>日本澳尔滨健康水</td><td>无敌保湿王</td><td>0</td><td>66</td><td>0</td><td>79.6334476471</td><td>1.17108011246</td><td>92.8334476471</td><td>0.9759001, 0.19518003</td><tr><td>53</td><td>412</td><td>【女神盛典】美国 Kiehl's 契尔氏高保湿50ml<189包邮></td><td>契尔氏高保湿霜</td><td>保湿圣品，UP UP UP !</td><td>0</td><td>66</td><td>0</td><td>79.6334476471</td><td>1.17108011246</td><td>92.8334476471</td><td>0.9759001, 0.19518003</td><tr><td>54</td><td>439</td><td>美国 Borghese贝佳斯 活力亮彩美肤泥浆（粉泥）200ml<128包邮></td><td>贝佳斯粉泥</td><td>浪漫面膜你必须拥有</td><td>0</td><td>63</td><td>0</td><td>79.6334476471</td><td>1.17108011246</td><td>92.2334476471</td><td>0.9759001, 0.19518003</td><tr><td>55</td><td>3484</td><td>神烦大叔卡积分卡洛斯</td><td>神烦大叔卡积分卡洛斯</td><td>神烦大叔卡积分卡洛斯</td><td>0</td><td>0</td><td>0</td><td>86.2695736885</td><td>1.2686702013</td><td>86.2695736885</td><td>0.9759001, 0.19518003, 0.097590014</td><tr><td>56</td><td>3425</td><td>韩国菲斯小铺绿豆泥浆面膜</td><td>韩国菲斯小铺绿豆泥</td><td>韩国菲斯小铺绿豆泥浆面膜</td><td>0</td><td>0</td><td>0</td><td>86.2695736885</td><td>1.2686702013</td><td>86.2695736885</td><td>0.9759001, 0.19518003, 0.097590014</td><tr><td>57</td><td>62</td><td>Bioderma 贝德玛卸妆水粉水500ml <112包邮>  </td><td></td><td></td><td>0</td><td>94</td><td>0</td><td>66.3612077236</td><td>0.975900113583</td><td>85.1612077236</td><td>0.9759001</td><tr><td>58</td><td>271</td><td>【年度打折季】?牛尔老师推荐?贝德玛舒妍洁肤液500ml粉水</td><td></td><td></td><td>0</td><td>94</td><td>0</td><td>66.3612077236</td><td>0.975900113583</td><td>85.1612077236</td><td>0.9759001</td><tr><td>59</td><td>90</td><td>BIODERMA贝德玛 净妍洁肤液（蓝水）</td><td></td><td></td><td>0</td><td>92</td><td>0</td><td>66.3612077236</td><td>0.975900113583</td><td>84.7612077236</td><td>0.9759001</td><tr><td>60</td><td>840</td><td>【仅限二天5月13日开售】爱尔兰Max factor蜜丝佛陀 透滑粉饼1号 玉瓷色 10g <120包邮></td><td>蜜丝佛陀透滑粉饼</td><td>风靡全球定妆圣品</td><td>0</td><td>90</td><td>0</td><td>66.3612077236</td><td>0.975900113583</td><td>84.3612077236</td><td>0.9759001</td><tr><td>61</td><td>842</td><td>【周末卖场】爱尔兰Max Factor蜜丝佛陀水漾触感粉底霜#45玉瓷色11.5g <129包邮></td><td>水漾触感粉底霜</td><td>完美裸妆必备利器</td><td>0</td><td>90</td><td>0</td><td>66.3612077236</td><td>0.975900113583</td><td>84.3612077236</td><td>0.9759001</td><tr><td>62</td><td>314</td><td>【周末卖场】法国 Bioderma贝德玛洁肤液500ml蓝水<112包邮></td><td></td><td></td><td>0</td><td>72</td><td>0</td><td>66.3612077236</td><td>0.975900113583</td><td>80.7612077236</td><td>0.9759001</td><tr><td>63</td><td>1200</td><td>Biore碧柔AQUA 水慕斯防晒SPF50+美肌BB隔离妆前乳 33G</td><td>水润防晒水感BB霜</td><td>15年新版</td><td>7</td><td>60</td><td>0</td><td>66.3612077236</td><td>0.975900113583</td><td>80.4612077236</td><td>0.9759001</td><tr><td>64</td><td>82</td><td>Kiehl's科颜氏小黄瓜水 契尔氏黄瓜水250ml 爽肤水无酒精</td><td></td><td></td><td>0</td><td>70</td><td>0</td><td>66.3612077236</td><td>0.975900113583</td><td>80.3612077236</td><td>0.9759001</td><tr><td>65</td><td>301</td><td>日本 JILL STUART吉尔•斯图尔特5#甜心恋爱四色腮红8g<238包邮></td><td>甜心恋爱四色腮红</td><td>公主腮红盘驾到</td><td>0</td><td>68</td><td>0</td><td>66.3612077236</td><td>0.975900113583</td><td>79.9612077236</td><td>0.9759001</td><tr><td>66</td><td>546</td><td>【春游记】爱尔兰 Maxfactor 蜜丝佛陀 臻密不凝结睫毛膏 纤长清爽型黑色（无盒） 13.1ml<119包邮></td><td>臻密不凝结睫毛膏</td><td>瞬间缔造纤长美睫</td><td>0</td><td>62</td><td>0</td><td>66.3612077236</td><td>0.975900113583</td><td>78.7612077236</td><td>0.9759001</td><tr><td>67</td><td>818</td><td>【周末卖场】爱尔兰Max factor蜜丝佛陀丰盈防水睫毛膏#1 黑色4.5ml<88包邮></td><td>丰盈防水睫毛膏</td><td>魅力女人的睫毛秘密！</td><td>0</td><td>62</td><td>0</td><td>66.3612077236</td><td>0.975900113583</td><td>78.7612077236</td><td>0.9759001</td><tr><td>68</td><td>231</td><td>日本 JILL STUART吉尔•斯图尔特5#甜心恋爱四色腮红8g<238包邮></td><td></td><td></td><td>0</td><td>62</td><td>0</td><td>66.3612077236</td><td>0.975900113583</td><td>78.7612077236</td><td>0.9759001</td><tr><td>69</td><td>286</td><td>【周末专场】日本 JILL STUART吉尔•斯图尔特梦幻四色腮红01# baby bulsh 8g<238包邮></td><td></td><td></td><td>0</td><td>62</td><td>0</td><td>66.3612077236</td><td>0.975900113583</td><td>78.7612077236</td><td>0.9759001</td><tr><td>70</td><td>292</td><td>【情人节专场】日本 JILL STUART吉尔•斯图尔特5#甜心恋爱四色腮红8g<238包邮></td><td></td><td></td><td>0</td><td>60</td><td>0</td><td>66.3612077236</td><td>0.975900113583</td><td>78.3612077236</td><td>0.9759001</td><tr><td>71</td><td>375</td><td>【待处理】法国 Giorgio Armani 阿玛尼限量版Eyes to Kill决战时尚炫光眼影4g #2 <149包</td><td></td><td>★打造迷人深邃眼神★</td><td>0</td><td>60</td><td>0</td><td>66.3612077236</td><td>0.975900113583</td><td>78.3612077236</td><td>0.9759001</td><tr><td>72</td><td>2771</td><td>意大利kiko马克水彩染唇笔／口红 49包邮</td><td>意大利kiko染唇笔</td><td>阿玛尼秀场御用彩妆</td><td>59</td><td>60</td><td>0</td><td>6.63612097502</td><td>0.0975900143385</td><td>36.336120975</td><td>0.097590014</td><tr><td>73</td><td>2719</td><td>草木之心蜂毒活性酵素去鸡皮皂80g</td><td>活性酵素去鸡皮皂</td><td>荷兰阿姆斯特丹大学医学中心博士推荐</td><td>57</td><td>60</td><td>0</td><td>6.63612097502</td><td>0.0975900143385</td><td>35.736120975</td><td>0.097590014</td><tr><td>74</td><td>2168</td><td>【海淘】日本高丝KoseQ10弹力紧致提拉美容液眼膜<49元起包邮></td><td>高丝Q10紧致眼膜</td><td>牛尔老师强力推荐</td><td>39</td><td>60</td><td>0</td><td>6.63612097502</td><td>0.0975900143385</td><td>30.336120975</td><td>0.097590014</td><tr><td>75</td><td>2098</td><td>【海淘】日本高丝Kose保湿去除细纹美容液眼膜嘴角膜64枚<79元包邮></td><td>日本高丝保湿去纹眼膜</td><td>牛尔老师强力推荐</td><td>37</td><td>62</td><td>0</td><td>6.63612097502</td><td>0.0975900143385</td><td>30.136120975</td><td>0.097590014</td><tr><td>76</td><td>2097</td><td>【海淘】日本高丝KoseQ10弹力紧致提拉美容液眼膜10枚<49元包邮></td><td>高丝Q10紧致眼膜</td><td>牛尔老师强力推荐</td><td>37</td><td>60</td><td>0</td><td>6.63612097502</td><td>0.0975900143385</td><td>29.736120975</td><td>0.097590014</td><tr><td>77</td><td>1032</td><td>撒旦撒旦</td><td>萨达</td><td>阿斯顿a</td><td>2</td><td>60</td><td>0</td><td>6.63612097502</td><td>0.0975900143385</td><td>19.236120975</td><td>0.097590014</td><tr><td>78</td><td>424</td><td>【3月23日上新】法国GUCCI古驰 Rush狂爱女士香水 30ml<255包邮></td><td>GUCCI狂爱女士香水</td><td>香水奥斯卡女香之星</td><td>0</td><td>60</td><td>0</td><td>6.63612097502</td><td>0.0975900143385</td><td>18.636120975</td><td>0.097590014</td>"
      ],
      "text/plain": [
       "<IPython.core.display.HTML object>"
      ]
     },
     "metadata": {},
     "output_type": "display_data"
    }
   ],
   "source": [
    "# 查询测试\n",
    "\n",
    "import MySQLdb\n",
    "import elasticsearch\n",
    "from elasticsearch.helpers import bulk, streaming_bulk\n",
    "from IPython.display import display, HTML\n",
    "from elasticsearch_dsl import F, Q, Search\n",
    "\n",
    "es = elasticsearch.Elasticsearch('http://172.16.1.30:9200')\n",
    "INDEX = 'meila_wares'\n",
    "TYPE = 'wares'\n",
    "\n",
    "\n",
    "#q = raw_input('请输入关键词：')\n",
    "q = \"玛尔斯\"\n",
    "\n",
    "\n",
    "if not q: q = u'美白 面膜'\n",
    "\n",
    "s = Search(es, index=INDEX, doc_type=TYPE)\n",
    "\n",
    "# 查询 DSL\n",
    "s = s.query(    \n",
    "Q('bool', should=[Q('constant_score', boost=1.0, query=Q('match', name=dict(query=q, operator='or')))\n",
    "    , Q('constant_score', boost=0.2, query=Q('match', short_name=dict(query=q, operator='or')))\n",
    "    , Q('constant_score', boost=0.1, query=Q('match', short_intro=dict(query=q, operator='or')))], disable_coord=True)\n",
    ")\n",
    "\n",
    "s = s.params(explain=True)\n",
    "\n",
    "# 排序\n",
    "#s = s.sort({\"_script\": {\n",
    "#            \"script\": \"_score * 68.0 + doc['display_score'].value * 0.5 + doc['sale_score'].value * 0.3 + doc['comment_score'].value * 0.2\",\n",
    "#            \"type\": \"number\", \"order\": \"desc\", \"lang\": \"groovy\"}})\n",
    "\n",
    "# 分页\n",
    "s = s[:100]\n",
    "\n",
    "\n",
    "display(s.to_dict())\n",
    "\n",
    "r = s.execute()\n",
    "\n",
    "htmls = [u'<br><br>'\n",
    "         u'<table>'\n",
    "        u'<tr>'\n",
    "        u'<th>#</th>'\n",
    "        u'<th>ID</th>'\n",
    "        u'<th>标题</th>'\n",
    "        u'<th>短标题</th>'\n",
    "        u'<th>短描述</th>'\n",
    "        u'<th>销量分数</th>'\n",
    "        u'<th>点评分数</th>'\n",
    "        u'<th>设置的分数</th>'\n",
    "        u'<th>ES分数 * 68.0</th>'\n",
    "        u'<th>ES分数</th>'\n",
    "        u'<th>最后的分数</th>'\n",
    "         u'<th>解释</th>'\n",
    "       ]\n",
    "\n",
    "for idx, doc in enumerate(r):\n",
    "     htmls.extend([u'<tr>'\n",
    "                  u'<td>{idx}</td>'.format(idx=idx+1),\n",
    "                  u'<td>{id}</td>'.format(id=doc.id),\n",
    "                  u'<td>{name}</td>'.format(name=doc.name),\n",
    "                  u'<td>{short_name}</td>'.format(short_name=doc.short_name),\n",
    "                  u'<td>{short_intro}</td>'.format(short_intro=doc.short_intro),\n",
    "                  u'<td>{sale_score}</td>'.format(sale_score=doc.sale_score),\n",
    "                  u'<td>{comment_score}</td>'.format(comment_score=doc.comment_score),\n",
    "                  u'<td>{display_score}</td>'.format(display_score=doc.display_score),\n",
    "                  u'<td>{es_score}</td>'.format(es_score=(doc.meta.sort[0] - (doc.display_score * 0.5 + doc.sale_score * 0.3 + doc.comment_score * 0.2))),\n",
    "                  u'<td>{es_score}</td>'.format(es_score=(doc.meta.sort[0] - (doc.display_score * 0.5 + doc.sale_score * 0.3 + doc.comment_score * 0.2))/68.0),\n",
    "                  u'<td>{last_score}</td>'.format(last_score=doc.meta.sort[0]),\n",
    "                  u'<td>{explanation}</td>'.format(explanation=', '.join([str(x.value) for x in doc.meta.explanation.details]))]\n",
    "                 )\n",
    "\n",
    "display(HTML(''.join(htmls)))"
   ]
  },
  {
   "cell_type": "code",
   "execution_count": 16,
   "metadata": {
    "collapsed": false
   },
   "outputs": [
    {
     "data": {
      "text/plain": [
       "{'from': 0,\n",
       " 'query': {'match': {'name': {'operator': 'or',\n",
       "    'query': '\\xe7\\x8e\\x9b\\xe5\\xb0\\x94\\xe6\\x96\\xaf'}}},\n",
       " 'size': 100}"
      ]
     },
     "metadata": {},
     "output_type": "display_data"
    },
    {
     "data": {
      "text/html": [
       "<br><br><table><tr><th>#</th><th>ID</th><th>标题</th><th>短标题</th><th>短描述</th><th>销量分数</th><th>点评分数</th><th>设置的分数</th><th>ES分数</th><th>解释</th><tr><td>1</td><td>1924</td><td>Marvis玛尔斯  美白薄荷牙膏</td><td>Marvis玛尔斯牙</td><td>牙膏中的爱马仕</td><td>31</td><td>60</td><td>0</td><td>2.2219925</td><td>0.98940545, 0.70730466, 0.52528244</td><tr><td>2</td><td>301</td><td>日本 JILL STUART吉尔•斯图尔特5#甜心恋爱四色腮红8g<238包邮></td><td>甜心恋爱四色腮红</td><td>公主腮红盘驾到</td><td>0</td><td>68</td><td>0</td><td>1.1604154</td><td>1.740623, 0.6666667</td><tr><td>3</td><td>231</td><td>日本 JILL STUART吉尔•斯图尔特5#甜心恋爱四色腮红8g<238包邮></td><td></td><td></td><td>0</td><td>62</td><td>0</td><td>1.0094203</td><td>1.5141304, 0.6666667</td><tr><td>4</td><td>2776</td><td>日本吉尔•斯图尔特四色腮红8g1#/5# 多款可选  238包邮</td><td>吉尔•斯图尔特腮红</td><td>打造粉嫩好气色</td><td>59</td><td>60</td><td>0</td><td>0.9875107</td><td>1.481266, 0.6666667</td><tr><td>5</td><td>292</td><td>【情人节专场】日本 JILL STUART吉尔•斯图尔特5#甜心恋爱四色腮红8g<238包邮></td><td></td><td></td><td>0</td><td>60</td><td>0</td><td>0.84263015</td><td>1.2639453, 0.6666667</td><tr><td>6</td><td>383</td><td>【奢华美】日本吉尔•斯图尔特四色腮红8g1#/5# 多款可选  238包邮 </td><td>吉尔•斯图尔特腮红</td><td>打造粉嫩好气色 </td><td>0</td><td>90</td><td>0</td><td>0.841256</td><td>1.261884, 0.6666667</td><tr><td>7</td><td>271</td><td>【年度打折季】?牛尔老师推荐?贝德玛舒妍洁肤液500ml粉水</td><td></td><td></td><td>0</td><td>94</td><td>0</td><td>0.8362311</td><td>1.2543466, 0.6666667</td><tr><td>8</td><td>286</td><td>【周末专场】日本 JILL STUART吉尔•斯图尔特梦幻四色腮红01# baby bulsh 8g<238包邮></td><td></td><td></td><td>0</td><td>62</td><td>0</td><td>0.719157</td><td>1.0787355, 0.6666667</td><tr><td>9</td><td>3263</td><td>意大利Marvis马尔斯牙膏75ml（黑色甘草薄荷，有益喉咙）</td><td></td><td></td><td>74</td><td>60</td><td>0</td><td>0.5895798</td><td>0.8843698, 0.6666667</td><tr><td>10</td><td>3262</td><td>意大利Marvis马尔斯牙膏75ml （蓝色海洋薄荷，口气清新 ）</td><td></td><td></td><td>74</td><td>60</td><td>0</td><td>0.5888423</td><td>0.88326335, 0.6666667</td><tr><td>11</td><td>3375</td><td>阿斯顿撒旦</td><td>阿萨达阿萨达</td><td>阿萨达阿萨达阿萨d</td><td>78</td><td>60</td><td>0</td><td>0.50173867</td><td>1.505216, 0.33333334</td><tr><td>12</td><td>90</td><td>BIODERMA贝德玛 净妍洁肤液（蓝水）</td><td></td><td></td><td>0</td><td>92</td><td>0</td><td>0.41565973</td><td>1.2469791, 0.33333334</td><tr><td>13</td><td>3484</td><td>神烦大叔卡积分卡洛斯</td><td>神烦大叔卡积分卡洛斯</td><td>神烦大叔卡积分卡洛斯</td><td>0</td><td>0</td><td>0</td><td>0.38860103</td><td>1.1658031, 0.33333334</td><tr><td>14</td><td>2726</td><td>法国Bioderma贝德玛舒妍温和卸妆水 500ml <115元包邮></td><td>贝德玛卸妆水</td><td>卸除彩妆 温和清洁</td><td>58</td><td>60</td><td>0</td><td>0.34073874</td><td>1.0222162, 0.33333334</td><tr><td>15</td><td>62</td><td>Bioderma 贝德玛卸妆水粉水500ml <112包邮>  </td><td></td><td></td><td>0</td><td>94</td><td>0</td><td>0.3152634</td><td>0.94579005, 0.33333334</td><tr><td>16</td><td>314</td><td>【周末卖场】法国 Bioderma贝德玛洁肤液500ml蓝水<112包邮></td><td></td><td></td><td>0</td><td>72</td><td>0</td><td>0.3116209</td><td>0.9348627, 0.33333334</td><tr><td>17</td><td>2229</td><td>【海淘】日本Albion奥尔滨爽肤精萃液/奥尔滨健康水< 455元起包邮 ></td><td>日本奥尔滨健康水</td><td>拯救问题肌肤的明星水</td><td>41</td><td>60</td><td>0</td><td>0.29003853</td><td>0.8701155, 0.33333334</td><tr><td>18</td><td>1311</td><td>【美啦闪购仅限一天】法国BIODERMA贝德玛卸妆水普通粉水|特润粉水|蓝水三选一<最低108包邮></td><td>贝德玛卸妆水</td><td>开创卸妆新“净”界</td><td>11</td><td>88</td><td>0</td><td>0.27470705</td><td>0.8241211, 0.33333334</td><tr><td>19</td><td>2129</td><td>LilyBell 丽丽贝尔化妆棉 222片/ 222片*2<最低19包邮></td><td>丽丽贝尔化妆棉222片</td><td>为你的保养锦上添花</td><td>38</td><td>100</td><td>0</td><td>0.26241452</td><td>0.7872436, 0.33333334</td><tr><td>20</td><td>2369</td><td>中国SWEET PINK粉色安琪 甜心慕斯粉饼 7g〈35元包邮〉</td><td>粉色安琪甜心慕斯粉饼</td><td>清爽控油 轻盈贴肤</td><td>46</td><td>60</td><td>0</td><td>0.25741148</td><td>0.7722344, 0.33333334</td><tr><td>21</td><td>412</td><td>【女神盛典】美国 Kiehl's 契尔氏高保湿50ml<189包邮></td><td>契尔氏高保湿霜</td><td>保湿圣品，UP UP UP !</td><td>0</td><td>66</td><td>0</td><td>0.2511807</td><td>0.7535421, 0.33333334</td><tr><td>22</td><td>438</td><td>美国Borghese贝佳斯 矿物营养泥浆膜(绿泥)200ml<99包邮></td><td>贝佳斯 矿物绿泥面膜</td><td>给你的毛孔大扫除</td><td>0</td><td>82</td><td>0</td><td>0.2511807</td><td>0.7535421, 0.33333334</td><tr><td>23</td><td>1647</td><td>Miss Candy健康指彩 凡尔赛花园系列 16ml <55包邮></td><td>糖果小姐凡尔赛花园</td><td>无毒无味健康可剥</td><td>22</td><td>62</td><td>0</td><td>0.24506438</td><td>0.73519313, 0.33333334</td><tr><td>24</td><td>3307</td><td>英国Dimples杜碧丝 脱毛喷雾 柠檬味 200ml 慕斯质地 轻松脱毛</td><td></td><td></td><td>75</td><td>60</td><td>0</td><td>0.24241768</td><td>0.72725296, 0.33333334</td><tr><td>25</td><td>1274</td><td>Miss Candy健康指彩 卡梅尔栗色彩点 16ml<55包邮></td><td>卡梅尔栗色彩点</td><td>五毒无味健康可剥</td><td>10</td><td>60</td><td>0</td><td>0.24011306</td><td>0.72033924, 0.33333334</td><tr><td>26</td><td>2100</td><td>【海淘】韩国mymi玛伊美大肚子瘦腹减肥贴 5片 <69元起包邮></td><td>韩国mymi瘦腹贴</td><td>让夏天秀出你的小蛮腰</td><td>37</td><td>78</td><td>0</td><td>0.24000673</td><td>0.7200201, 0.33333334</td><tr><td>27</td><td>375</td><td>【待处理】法国 Giorgio Armani 阿玛尼限量版Eyes to Kill决战时尚炫光眼影4g #2 <149包</td><td></td><td>★打造迷人深邃眼神★</td><td>0</td><td>60</td><td>0</td><td>0.24000673</td><td>0.7200201, 0.33333334</td><tr><td>28</td><td>370</td><td>【爆款】法国 Bioderma贝德玛洁肤液蓝水/粉水500ml两款可选<112包邮></td><td>贝德玛洁肤液</td><td>清洁卸妆合一</td><td>0</td><td>100</td><td>0</td><td>0.23790328</td><td>0.71370983, 0.33333334</td><tr><td>29</td><td>3206</td><td>法国Bioderma贝德玛 舒妍卸妆水 粉水 中干皮肤用500ml 温和卸妆 深层洁净</td><td></td><td></td><td>72</td><td>60</td><td>0</td><td>0.2351576</td><td>0.70547277, 0.33333334</td><tr><td>30</td><td>2005</td><td>【9块9换购】法国普罗旺斯甜甜圈洗发皂红色/绿色/白色 三色可选 85g</td><td>法国普罗旺斯洗发皂</td><td>天然无添加洗发皂</td><td>34</td><td>100</td><td>0</td><td>0.23034146</td><td>0.6910243, 0.33333334</td><tr><td>31</td><td>172</td><td>美国Kiehl’s契尔氏高保湿霜50ml <189包邮></td><td>契尔氏高保湿霜</td><td>保湿界的战斗机</td><td>0</td><td>100</td><td>0</td><td>0.22725764</td><td>0.6817729, 0.33333334</td><tr><td>32</td><td>548</td><td>韩国Etude house爱丽小屋慕斯染色唇彩三选一10g <58包邮></td><td>爱丽小屋慕斯染色唇彩</td><td>挡不住的唇色诱惑</td><td>0</td><td>80</td><td>0</td><td>0.21814303</td><td>0.6544291, 0.33333334</td><tr><td>33</td><td>2732</td><td>德国进口爱姬玛琳蜜桃香氛沐浴露150ml  <49元包邮></td><td>德国爱姬玛琳沐浴露</td><td>甜蜜花果香调</td><td>58</td><td>60</td><td>0</td><td>0.20905778</td><td>0.6271733, 0.33333334</td><tr><td>34</td><td>956</td><td>【五月热恋】爱尔兰 MaxFactor 蜜丝佛陀透滑粉饼 10G<78包邮></td><td>蜜丝佛陀透滑粉饼</td><td>控油遮瑕轻透裸妆</td><td>99</td><td>100</td><td>0</td><td>0.20839164</td><td>0.62517494, 0.33333334</td><tr><td>35</td><td>3425</td><td>韩国菲斯小铺绿豆泥浆面膜</td><td>韩国菲斯小铺绿豆泥</td><td>韩国菲斯小铺绿豆泥浆面膜</td><td>0</td><td>0</td><td>0</td><td>0.20695665</td><td>0.62086993, 0.33333334</td><tr><td>36</td><td>745</td><td>【海淘专场】日本 Albion澳尔滨清新莹白渗透乳200ml/110ml 二选一<最低299元起包邮></td><td>日本澳尔滨渗透乳</td><td>肌肤的健康水</td><td>0</td><td>68</td><td>0</td><td>0.20592919</td><td>0.61778754, 0.33333334</td><tr><td>37</td><td>2389</td><td>【Angelababy的美啦，你的美啦】法国贝德玛洁肤液蓝水/粉水500ml 多款可选  108包邮</td><td>贝德玛洁肤液</td><td>清洁卸妆合一</td><td>46</td><td>78</td><td>0</td><td>0.20547257</td><td>0.6164177, 0.33333334</td><tr><td>38</td><td>545</td><td>【五月热恋】德国 Algemarin 爱姬玛琳香水沐浴露（300ml、150ml）三选一<最低42包邮></td><td>爱姬玛琳香水沐浴露</td><td>全球香水洗护销量冠军</td><td>0</td><td>82</td><td>0</td><td>0.20547257</td><td>0.6164177, 0.33333334</td><tr><td>39</td><td>955</td><td>【定妆圣品】爱尔兰 MaxFactor 蜜丝佛陀透滑粉饼 10G<78包邮></td><td>蜜丝佛陀透滑粉饼</td><td>控油遮瑕 轻透裸妆</td><td>99</td><td>60</td><td>0</td><td>0.2050882</td><td>0.6152646, 0.33333334</td><tr><td>40</td><td>968</td><td>【五月热恋】爱尔兰 MaxFactor 蜜丝佛陀 双彩随心配润泽唇膏 2.5G*2<89包邮></td><td>蜜丝佛陀双彩润泽唇膏</td><td>高效滋润 百变唇色</td><td>99</td><td>68</td><td>0</td><td>0.2050882</td><td>0.6152646, 0.33333334</td><tr><td>41</td><td>1200</td><td>Biore碧柔AQUA 水慕斯防晒SPF50+美肌BB隔离妆前乳 33G</td><td>水润防晒水感BB霜</td><td>15年新版</td><td>7</td><td>60</td><td>0</td><td>0.2050882</td><td>0.6152646, 0.33333334</td><tr><td>42</td><td>3309</td><td>英国Dimples杜碧丝 脱毛喷雾 玫瑰味 200ml 慕斯质地 轻松脱毛</td><td></td><td></td><td>75</td><td>60</td><td>0</td><td>0.2050882</td><td>0.6152646, 0.33333334</td><tr><td>43</td><td>3195</td><td>法国Bioderma贝德玛 舒妍温和保湿卸妆水 500ml 温和卸妆 深层清洁</td><td></td><td></td><td>72</td><td>60</td><td>0</td><td>0.20483395</td><td>0.61450183, 0.33333334</td><tr><td>44</td><td>351</td><td>【美啦女生节】意大利Moschino莫斯奇诺女士香水初春甜蜜来袭 五选一 <49包邮></td><td>莫斯奇诺 女士香水</td><td>小瓶身有大能量</td><td>0</td><td>80</td><td>0</td><td>0.19690095</td><td>0.5907029, 0.33333334</td><tr><td>45</td><td>546</td><td>【春游记】爱尔兰 Maxfactor 蜜丝佛陀 臻密不凝结睫毛膏 纤长清爽型黑色（无盒） 13.1ml<119包邮></td><td>臻密不凝结睫毛膏</td><td>瞬间缔造纤长美睫</td><td>0</td><td>62</td><td>0</td><td>0.19430052</td><td>0.58290154, 0.33333334</td><tr><td>46</td><td>2028</td><td>山东大樱桃”拉宾斯“优质车厘子3斤<128元包空运></td><td>山东大樱桃拉宾斯</td><td>补铁补血补钙补维生素</td><td>35</td><td>60</td><td>0</td><td>0.18699768</td><td>0.560993, 0.33333334</td><tr><td>47</td><td>82</td><td>Kiehl's科颜氏小黄瓜水 契尔氏黄瓜水250ml 爽肤水无酒精</td><td></td><td></td><td>0</td><td>70</td><td>0</td><td>0.18180612</td><td>0.5454183, 0.33333334</td><tr><td>48</td><td>2035</td><td>【海淘】日本纳贝斯克NABISCO RITZ 芝士饼干39枚<35起包邮></td><td>日本纳贝斯克 芝士饼干</td><td>层层松脆乐趣无穷</td><td>35</td><td>62</td><td>0</td><td>0.17739141</td><td>0.5321742, 0.33333334</td><tr><td>49</td><td>894</td><td>【Angelababy的美啦，你的美啦】爱尔兰 Maxfactor蜜丝佛陀水漾魔幻触感粉底霜40号象牙色11.5g  7</td><td>蜜丝佛陀魔幻粉底霜</td><td>美币抵现后只需59元</td><td>97</td><td>100</td><td>0</td><td>0.1755787</td><td>0.5267361, 0.33333334</td><tr><td>50</td><td>742</td><td>【海淘专场】日本 Albion澳尔滨药用化妆水 健康水 110ml <260包邮></td><td>日本澳尔滨健康水</td><td>无敌保湿王</td><td>0</td><td>66</td><td>0</td><td>0.17451441</td><td>0.5235433, 0.33333334</td><tr><td>51</td><td>818</td><td>【周末卖场】爱尔兰Max factor蜜丝佛陀丰盈防水睫毛膏#1 黑色4.5ml<88包邮></td><td>丰盈防水睫毛膏</td><td>魅力女人的睫毛秘密！</td><td>0</td><td>62</td><td>0</td><td>0.17451441</td><td>0.5235433, 0.33333334</td><tr><td>52</td><td>2049</td><td>山东大樱桃”拉宾斯“优质车厘子3斤<128元包空运></td><td>山东烟台大樱桃拉宾斯</td><td>补贴补血补钙补维生素</td><td>35</td><td>60</td><td>0</td><td>0.17402312</td><td>0.5220693, 0.33333334</td><tr><td>53</td><td>2050</td><td>山东大樱桃”拉宾斯“优质车厘子3斤<128元包空运></td><td>山东烟台大樱桃拉宾斯</td><td>美容圣果 天然面膜</td><td>35</td><td>64</td><td>0</td><td>0.17402312</td><td>0.5220693, 0.33333334</td><tr><td>54</td><td>967</td><td>【性感魅惑】爱尔兰 MaxFactor 蜜丝佛陀 魅惑润泽修护唇膏 3.5G<88包邮></td><td>蜜丝佛陀魅惑润泽唇膏</td><td>缔造艳丽性感魅惑双唇</td><td>99</td><td>62</td><td>0</td><td>0.16724622</td><td>0.50173867, 0.33333334</td><tr><td>55</td><td>994</td><td>【五月热恋】爱尔兰 MaxFactor 蜜丝佛陀 魅惑润泽修护唇膏 3.5G<88包邮></td><td>蜜丝佛陀魅惑润泽唇膏</td><td>色泽艳丽 持久水嫩</td><td>100</td><td>70</td><td>0</td><td>0.16724622</td><td>0.50173867, 0.33333334</td><tr><td>56</td><td>1728</td><td>玛贝拉爱慕丝滑脱毛膏套装大马士革玫瑰60g+60ml < 最低26元包邮></td><td>玛贝拉丝滑脱毛膏套装</td><td>享受无暇丝滑美肌</td><td>25</td><td>67</td><td>0</td><td>0.16724622</td><td>0.50173867, 0.33333334</td><tr><td>57</td><td>840</td><td>【仅限二天5月13日开售】爱尔兰Max factor蜜丝佛陀 透滑粉饼1号 玉瓷色 10g <120包邮></td><td>蜜丝佛陀透滑粉饼</td><td>风靡全球定妆圣品</td><td>0</td><td>90</td><td>0</td><td>0.1667133</td><td>0.50013995, 0.33333334</td><tr><td>58</td><td>2230</td><td>【海淘】日本ALBION奥尔滨清新莹白渗透乳200ml< 415元起包邮 ></td><td>日本奥尔滨莹白渗透乳</td><td>打开肌肤吸收之门</td><td>41</td><td>60</td><td>0</td><td>0.16407056</td><td>0.49221164, 0.33333334</td><tr><td>59</td><td>3186</td><td>德国Salus莎露斯 Floradix铁元红版 液浓缩口服液500ml 孕妇补铁补血果蔬营养</td><td></td><td></td><td>71</td><td>60</td><td>0</td><td>0.16358267</td><td>0.490748, 0.33333334</td><tr><td>60</td><td>909</td><td>爱尔兰 MaxFactor蜜丝佛陀经典水润粉底霜/水漾魔幻触感粉底霜 11.5G<78包邮></td><td>蜜丝佛陀经典水润粉底</td><td>3态魔幻触感粉底</td><td>97</td><td>100</td><td>0</td><td>0.16007538</td><td>0.48022613, 0.33333334</td><tr><td>61</td><td>1034</td><td>JUNPING橙净无忧氨基酸控油洁面慕斯135ml <90元包邮></td><td>俊平橙净洁面慕斯</td><td>让你快乐的洁面慕斯</td><td>2</td><td>62</td><td>0</td><td>0.15476283</td><td>0.46428844, 0.33333334</td><tr><td>62</td><td>2284</td><td>贝佳斯矿物营养活肤泥浆面膜 （绿泥）   <113元包邮></td><td>意大利贝佳斯矿物面膜</td><td>温泉的火山泥浆</td><td>43</td><td>60</td><td>0</td><td>0.15476283</td><td>0.46428844, 0.33333334</td><tr><td>63</td><td>556</td><td>【五月热恋】莫斯奇诺女士香水小样（2款可选）小样<最低45包邮></td><td>莫斯奇诺女士香水</td><td>热恋般的甜蜜诱惑</td><td>0</td><td>68</td><td>0</td><td>0.15476283</td><td>0.46428844, 0.33333334</td><tr><td>64</td><td>2856</td><td>韩国RECIPE菜斯璧水晶透明防晒喷雾150ml 68包邮</td><td>菜斯璧水晶防晒喷雾</td><td>防晒防水防汗定妆保湿</td><td>62</td><td>60</td><td>0</td><td>0.15425041</td><td>0.46275124, 0.33333334</td><tr><td>65</td><td>439</td><td>美国 Borghese贝佳斯 活力亮彩美肤泥浆（粉泥）200ml<128包邮></td><td>贝佳斯粉泥</td><td>浪漫面膜你必须拥有</td><td>0</td><td>63</td><td>0</td><td>0.15163597</td><td>0.45490795, 0.33333334</td><tr><td>66</td><td>842</td><td>【周末卖场】爱尔兰Max Factor蜜丝佛陀水漾触感粉底霜#45玉瓷色11.5g <129包邮></td><td>水漾触感粉底霜</td><td>完美裸妆必备利器</td><td>0</td><td>90</td><td>0</td><td>0.14844407</td><td>0.4453322, 0.33333334</td><tr><td>67</td><td>1798</td><td>【海淘】韩国MEDIHERL可莱斯NMF针剂水库面膜10片/盒 <100元起包邮></td><td>韩国可莱斯水库面膜</td><td>韩国第一药妆面膜</td><td>27</td><td>62</td><td>0</td><td>0.13923</td><td>0.41768998, 0.33333334</td><tr><td>68</td><td>2754</td><td>德芙/好时/瑞特斯波德（德国运动）多口味组合装巧克力礼盒600g紫色包装<99元顺丰包邮></td><td>巧克力礼盒</td><td>多口味一次满足~</td><td>58</td><td>60</td><td>0</td><td>0.13735352</td><td>0.41206056, 0.33333334</td><tr><td>69</td><td>1797</td><td>【海淘】韩国MEDIHERL可莱斯NMF针剂水库面膜10片/盒<90元包邮></td><td>可莱斯水库面膜</td><td>韩国第一药妆面膜</td><td>27</td><td>60</td><td>0</td><td>0.109433845</td><td>0.32830155, 0.33333334</td><tr><td>70</td><td>2631</td><td>【海淘】日本医食同源RICH弗斯克林左旋肉碱营养片40粒<79元包邮></td><td>日本医食同源营养片</td><td>让你轻松拥有小蛮腰</td><td>54</td><td>60</td><td>0</td><td>0.109433845</td><td>0.32830155, 0.33333334</td><tr><td>71</td><td>813</td><td>【5月18日开售】韩国 numandy's 纽曼迪斯脱毛贴布蜡纸<89包邮></td><td>纽曼迪斯脱毛贴10对</td><td>轻松的脱毛专家</td><td>0</td><td>100</td><td>0</td><td>0.109433845</td><td>0.32830155, 0.33333334</td>"
      ],
      "text/plain": [
       "<IPython.core.display.HTML object>"
      ]
     },
     "metadata": {},
     "output_type": "display_data"
    }
   ],
   "source": [
    "# 查询测试\n",
    "\n",
    "import MySQLdb\n",
    "import elasticsearch\n",
    "from elasticsearch.helpers import bulk, streaming_bulk\n",
    "from IPython.display import display, HTML\n",
    "from elasticsearch_dsl import F, Q, Search\n",
    "\n",
    "es = elasticsearch.Elasticsearch('http://172.16.1.30:9200')\n",
    "INDEX = 'meila_wares'\n",
    "TYPE = 'wares'\n",
    "\n",
    "\n",
    "#q = raw_input('请输入关键词：')\n",
    "q = \"玛尔斯\"\n",
    "\n",
    "\n",
    "if not q: q = u'美白 面膜'\n",
    "\n",
    "s = Search(es, index=INDEX, doc_type=TYPE)\n",
    "\n",
    "# 查询 DSL\n",
    "#s = s.query(    \n",
    "#Q('bool', should=[Q('constant_score', boost=1.0, query=Q('match', name=dict(query=q, operator='or')))]\n",
    "#                  , minimum_should_match=3)\n",
    "#)\n",
    "\n",
    "s = s.query(\"match\", name=dict(query=q, operator='or')) \n",
    "\n",
    "s = s.params(explain=True)\n",
    "\n",
    "# 排序\n",
    "#s = s.sort({\"_script\": {\n",
    "#            \"script\": \"_score * 68.0 + doc['display_score'].value * 0.5 + doc['sale_score'].value * 0.3 + doc['comment_score'].value * 0.2\",\n",
    "#            \"type\": \"number\", \"order\": \"desc\", \"lang\": \"groovy\"}})\n",
    "\n",
    "# 分页\n",
    "s = s[:100]\n",
    "\n",
    "\n",
    "display(s.to_dict())\n",
    "\n",
    "r = s.execute()\n",
    "\n",
    "htmls = [u'<br><br>'\n",
    "         u'<table>'\n",
    "        u'<tr>'\n",
    "        u'<th>#</th>'\n",
    "        u'<th>ID</th>'\n",
    "        u'<th>标题</th>'\n",
    "        u'<th>短标题</th>'\n",
    "        u'<th>短描述</th>'\n",
    "        u'<th>销量分数</th>'\n",
    "        u'<th>点评分数</th>'\n",
    "        u'<th>设置的分数</th>'\n",
    "        u'<th>ES分数</th>'\n",
    "         u'<th>解释</th>'\n",
    "       ]\n",
    "\n",
    "for idx, doc in enumerate(r):\n",
    "     htmls.extend([u'<tr>'\n",
    "                  u'<td>{idx}</td>'.format(idx=idx+1),\n",
    "                  u'<td>{id}</td>'.format(id=doc.id),\n",
    "                  u'<td>{name}</td>'.format(name=doc.name),\n",
    "                  u'<td>{short_name}</td>'.format(short_name=doc.short_name),\n",
    "                  u'<td>{short_intro}</td>'.format(short_intro=doc.short_intro),\n",
    "                  u'<td>{sale_score}</td>'.format(sale_score=doc.sale_score),\n",
    "                  u'<td>{comment_score}</td>'.format(comment_score=doc.comment_score),\n",
    "                  u'<td>{display_score}</td>'.format(display_score=doc.display_score),\n",
    "                  u'<td>{es_score}</td>'.format(es_score=doc.meta.score),\n",
    "                  u'<td>{explanation}</td>'.format(explanation=', '.join([str(x.value) for x in doc.meta.explanation.details]))]\n",
    "                 )\n",
    "\n",
    "display(HTML(''.join(htmls)))"
   ]
  },
  {
   "cell_type": "code",
   "execution_count": null,
   "metadata": {
    "collapsed": true
   },
   "outputs": [],
   "source": []
  }
 ],
 "metadata": {
  "kernelspec": {
   "display_name": "Python 2",
   "language": "python",
   "name": "python2"
  },
  "language_info": {
   "codemirror_mode": {
    "name": "ipython",
    "version": 2
   },
   "file_extension": ".py",
   "mimetype": "text/x-python",
   "name": "python",
   "nbconvert_exporter": "python",
   "pygments_lexer": "ipython2",
   "version": "2.7.6"
  }
 },
 "nbformat": 4,
 "nbformat_minor": 0
}
