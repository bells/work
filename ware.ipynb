{
 "cells": [
  {
   "cell_type": "code",
   "execution_count": 43,
   "metadata": {
    "collapsed": false,
    "scrolled": false
   },
   "outputs": [
    {
     "data": {
      "text/plain": [
       "{'from': 0,\n",
       " 'query': {'bool': {'disable_coord': True,\n",
       "   'should': [{'constant_score': {'boost': 1.0,\n",
       "      'query': {'match': {'name': {'operator': 'or',\n",
       "         'query': '\\xe7\\x8e\\x9b\\xe5\\xb0\\x94\\xe6\\x96\\xaf'}}}}},\n",
       "    {'constant_score': {'boost': 0.2,\n",
       "      'query': {'match': {'short_name': {'operator': 'or',\n",
       "         'query': '\\xe7\\x8e\\x9b\\xe5\\xb0\\x94\\xe6\\x96\\xaf'}}}}},\n",
       "    {'constant_score': {'boost': 0.1,\n",
       "      'query': {'match': {'short_intro': {'operator': 'or',\n",
       "         'query': '\\xe7\\x8e\\x9b\\xe5\\xb0\\x94\\xe6\\x96\\xaf'}}}}}]}},\n",
       " 'size': 10}"
      ]
     },
     "metadata": {},
     "output_type": "display_data"
    },
    {
     "data": {
      "text/html": [
       "<br><br><table><tr><th>#</th><th>ID</th><th>标题</th><th>短标题</th><th>短描述</th><th>销量分数</th><th>点评分数</th><th>设置的分数</th><th>ES分数</th><th>解释</th><tr><td>1</td><td>3484</td><td>神烦大叔卡积分卡洛斯</td><td>神烦大叔卡积分卡洛斯</td><td>神烦大叔卡积分卡洛斯</td><td>0</td><td>0</td><td>0</td><td>1.2686702</td><td>0.9759001, 0.19518003, 0.097590014</td><tr><td>2</td><td>3425</td><td>韩国菲斯小铺绿豆泥浆面膜</td><td>韩国菲斯小铺绿豆泥</td><td>韩国菲斯小铺绿豆泥浆面膜</td><td>0</td><td>0</td><td>0</td><td>1.2686702</td><td>0.9759001, 0.19518003, 0.097590014</td><tr><td>3</td><td>1034</td><td>JUNPING橙净无忧氨基酸控油洁面慕斯135ml <90元包邮></td><td>俊平橙净洁面慕斯</td><td>让你快乐的洁面慕斯</td><td>2</td><td>62</td><td>0</td><td>1.2686702</td><td>0.9759001, 0.19518003, 0.097590014</td><tr><td>4</td><td>2028</td><td>山东大樱桃”拉宾斯“优质车厘子3斤<128元包空运></td><td>山东大樱桃拉宾斯</td><td>补铁补血补钙补维生素</td><td>35</td><td>60</td><td>0</td><td>1.1710801</td><td>0.9759001, 0.19518003</td><tr><td>5</td><td>2726</td><td>法国Bioderma贝德玛舒妍温和卸妆水 500ml <115元包邮></td><td>贝德玛卸妆水</td><td>卸除彩妆 温和清洁</td><td>58</td><td>60</td><td>0</td><td>1.1710801</td><td>0.9759001, 0.19518003</td><tr><td>6</td><td>2856</td><td>韩国RECIPE菜斯璧水晶透明防晒喷雾150ml 68包邮</td><td>菜斯璧水晶防晒喷雾</td><td>防晒防水防汗定妆保湿</td><td>62</td><td>60</td><td>0</td><td>1.1710801</td><td>0.9759001, 0.19518003</td><tr><td>7</td><td>548</td><td>韩国Etude house爱丽小屋慕斯染色唇彩三选一10g <58包邮></td><td>爱丽小屋慕斯染色唇彩</td><td>挡不住的唇色诱惑</td><td>0</td><td>80</td><td>0</td><td>1.1710801</td><td>0.9759001, 0.19518003</td><tr><td>8</td><td>742</td><td>【海淘专场】日本 Albion澳尔滨药用化妆水 健康水 110ml <260包邮></td><td>日本澳尔滨健康水</td><td>无敌保湿王</td><td>0</td><td>66</td><td>0</td><td>1.1710801</td><td>0.9759001, 0.19518003</td><tr><td>9</td><td>1274</td><td>Miss Candy健康指彩 卡梅尔栗色彩点 16ml<55包邮></td><td>卡梅尔栗色彩点</td><td>五毒无味健康可剥</td><td>10</td><td>60</td><td>0</td><td>1.1710801</td><td>0.9759001, 0.19518003</td><tr><td>10</td><td>1311</td><td>【美啦闪购仅限一天】法国BIODERMA贝德玛卸妆水普通粉水|特润粉水|蓝水三选一<最低108包邮></td><td>贝德玛卸妆水</td><td>开创卸妆新“净”界</td><td>11</td><td>88</td><td>0</td><td>1.1710801</td><td>0.9759001, 0.19518003</td>"
      ],
      "text/plain": [
       "<IPython.core.display.HTML object>"
      ]
     },
     "metadata": {},
     "output_type": "display_data"
    }
   ],
   "source": [
    "# 查询测试\n",
    "\n",
    "import MySQLdb\n",
    "import elasticsearch\n",
    "from elasticsearch.helpers import bulk, streaming_bulk\n",
    "from IPython.display import display, HTML\n",
    "from elasticsearch_dsl import F, Q, Search\n",
    "\n",
    "es = elasticsearch.Elasticsearch('http://172.16.1.30:9200')\n",
    "INDEX = 'meila_wares'\n",
    "TYPE = 'wares'\n",
    "\n",
    "\n",
    "#q = raw_input('请输入关键词：')\n",
    "q = \"玛尔斯\"\n",
    "\n",
    "\n",
    "if not q: q = u'美白 面膜'\n",
    "\n",
    "s = Search(es, index=INDEX, doc_type=TYPE)\n",
    "\n",
    "# 查询 DSL\n",
    "s = s.query(    \n",
    "Q('bool', should=[Q('constant_score', boost=1.0, query=Q('match', name=dict(query=q, operator='or')))\n",
    "    , Q('constant_score', boost=0.2, query=Q('match', short_name=dict(query=q, operator='or')))\n",
    "    , Q('constant_score', boost=0.1, query=Q('match', short_intro=dict(query=q, operator='or')))], disable_coord=True)\n",
    ")\n",
    "\n",
    "s = s.params(explain=True)\n",
    "\n",
    "# 排序\n",
    "#s = s.sort({\"_script\": {\n",
    "#            \"script\": \"_score * 68.0 + doc['display_score'].value * 0.5 + doc['sale_score'].value * 0.3 + doc['comment_score'].value * 0.2\",\n",
    "#            \"type\": \"number\", \"order\": \"desc\", \"lang\": \"groovy\"}})\n",
    "\n",
    "# 分页\n",
    "s = s[:10]\n",
    "\n",
    "\n",
    "display(s.to_dict())\n",
    "\n",
    "r = s.execute()\n",
    "\n",
    "htmls = [u'<br><br>'\n",
    "         u'<table>'\n",
    "        u'<tr>'\n",
    "        u'<th>#</th>'\n",
    "        u'<th>ID</th>'\n",
    "        u'<th>标题</th>'\n",
    "        u'<th>短标题</th>'\n",
    "        u'<th>短描述</th>'\n",
    "        u'<th>销量分数</th>'\n",
    "        u'<th>点评分数</th>'\n",
    "        u'<th>设置的分数</th>'\n",
    "        u'<th>ES分数</th>'\n",
    "         u'<th>解释</th>'\n",
    "       ]\n",
    "\n",
    "for idx, doc in enumerate(r):\n",
    "     htmls.extend([u'<tr>'\n",
    "                  u'<td>{idx}</td>'.format(idx=idx+1),\n",
    "                  u'<td>{id}</td>'.format(id=doc.id),\n",
    "                  u'<td>{name}</td>'.format(name=doc.name),\n",
    "                  u'<td>{short_name}</td>'.format(short_name=doc.short_name),\n",
    "                  u'<td>{short_intro}</td>'.format(short_intro=doc.short_intro),\n",
    "                  u'<td>{sale_score}</td>'.format(sale_score=doc.sale_score),\n",
    "                  u'<td>{comment_score}</td>'.format(comment_score=doc.comment_score),\n",
    "                  u'<td>{display_score}</td>'.format(display_score=doc.display_score),\n",
    "                  u'<td>{last_score}</td>'.format(last_score=doc.meta.score),\n",
    "                  u'<td>{explanation}</td>'.format(explanation=', '.join([str(x.value) for x in doc.meta.explanation.details]))]\n",
    "                 )\n",
    "\n",
    "display(HTML(''.join(htmls)))"
   ]
  },
  {
   "cell_type": "code",
   "execution_count": 67,
   "metadata": {
    "collapsed": false
   },
   "outputs": [
    {
     "data": {
      "text/plain": [
       "{'from': 0,\n",
       " 'query': {'bool': {'should': [{'bool': {'boost': 1,\n",
       "      'disable_coord': True,\n",
       "      'must': [{'match': {'name': {'operator': 'or',\n",
       "          'query': '\\xe7\\x8e\\x9b\\xe5\\xb0\\x94\\xe6\\x96\\xaf'}}}]}},\n",
       "    {'bool': {'boost': 0.2,\n",
       "      'disable_coord': True,\n",
       "      'must': [{'match': {'short_name': {'operator': 'or',\n",
       "          'query': '\\xe7\\x8e\\x9b\\xe5\\xb0\\x94\\xe6\\x96\\xaf'}}}]}},\n",
       "    {'bool': {'boost': 0.1,\n",
       "      'disable_coord': True,\n",
       "      'must': [{'match': {'short_intro': {'operator': 'or',\n",
       "          'query': '\\xe7\\x8e\\x9b\\xe5\\xb0\\x94\\xe6\\x96\\xaf'}}}]}}]}},\n",
       " 'size': 20}"
      ]
     },
     "metadata": {},
     "output_type": "display_data"
    },
    {
     "data": {
      "text/html": [
       "<br><br><table><tr><th>#</th><th>ID</th><th>标题</th><th>短标题</th><th>短描述</th><th>销量分数</th><th>点评分数</th><th>设置的分数</th><th>ES分数</th><th>解释</th><tr><td>1</td><td>1924</td><td>Marvis玛尔斯  美白薄荷牙膏</td><td>Marvis玛尔斯牙</td><td>牙膏中的爱马仕</td><td>31</td><td>60</td><td>0</td><td>2.0173545</td><td>3.0260317, 0.6666667</td><tr><td>2</td><td>2776</td><td>日本吉尔•斯图尔特四色腮红8g1#/5# 多款可选  238包邮</td><td>吉尔•斯图尔特腮红</td><td>打造粉嫩好气色</td><td>59</td><td>60</td><td>0</td><td>0.9604768</td><td>1.4407152, 0.6666667</td><tr><td>3</td><td>383</td><td>【奢华美】日本吉尔•斯图尔特四色腮红8g1#/5# 多款可选  238包邮 </td><td>吉尔•斯图尔特腮红</td><td>打造粉嫩好气色 </td><td>0</td><td>90</td><td>0</td><td>0.8505046</td><td>1.2757568, 0.6666667</td><tr><td>4</td><td>3484</td><td>神烦大叔卡积分卡洛斯</td><td>神烦大叔卡积分卡洛斯</td><td>神烦大叔卡积分卡洛斯</td><td>0</td><td>0</td><td>0</td><td>0.49211618</td><td>0.3785509, 0.07571019, 0.037855096</td><tr><td>5</td><td>301</td><td>日本 JILL STUART吉尔•斯图尔特5#甜心恋爱四色腮红8g<238包邮></td><td>甜心恋爱四色腮红</td><td>公主腮红盘驾到</td><td>0</td><td>68</td><td>0</td><td>0.37534937</td><td>1.126048, 0.33333334</td><tr><td>6</td><td>231</td><td>日本 JILL STUART吉尔•斯图尔特5#甜心恋爱四色腮红8g<238包邮></td><td></td><td></td><td>0</td><td>62</td><td>0</td><td>0.3250718</td><td>0.97521544, 0.33333334</td><tr><td>7</td><td>2726</td><td>法国Bioderma贝德玛舒妍温和卸妆水 500ml <115元包邮></td><td>贝德玛卸妆水</td><td>卸除彩妆 温和清洁</td><td>58</td><td>60</td><td>0</td><td>0.309005</td><td>0.46350744, 0.6666667</td><tr><td>8</td><td>3425</td><td>韩国菲斯小铺绿豆泥浆面膜</td><td>韩国菲斯小铺绿豆泥</td><td>韩国菲斯小铺绿豆泥浆面膜</td><td>0</td><td>0</td><td>0</td><td>0.27748716</td><td>0.19994381, 0.05569262, 0.021850713</td><tr><td>9</td><td>292</td><td>【情人节专场】日本 JILL STUART吉尔•斯图尔特5#甜心恋爱四色腮红8g<238包邮></td><td></td><td></td><td>0</td><td>60</td><td>0</td><td>0.27291217</td><td>0.8187365, 0.33333334</td><tr><td>10</td><td>271</td><td>【年度打折季】?牛尔老师推荐?贝德玛舒妍洁肤液500ml粉水</td><td></td><td></td><td>0</td><td>94</td><td>0</td><td>0.26929832</td><td>0.80789495, 0.33333334</td><tr><td>11</td><td>1034</td><td>JUNPING橙净无忧氨基酸控油洁面慕斯135ml <90元包邮></td><td>俊平橙净洁面慕斯</td><td>让你快乐的洁面慕斯</td><td>2</td><td>62</td><td>0</td><td>0.2599429</td><td>0.15020268, 0.053156815, 0.0565834</td><tr><td>12</td><td>1311</td><td>【美啦闪购仅限一天】法国BIODERMA贝德玛卸妆水普通粉水|特润粉水|蓝水三选一<最低108包邮></td><td>贝德玛卸妆水</td><td>开创卸妆新“净”界</td><td>11</td><td>88</td><td>0</td><td>0.25520986</td><td>0.38281482, 0.6666667</td><tr><td>13</td><td>2229</td><td>【海淘】日本Albion奥尔滨爽肤精萃液/奥尔滨健康水< 455元起包邮 ></td><td>日本奥尔滨健康水</td><td>拯救问题肌肤的明星水</td><td>41</td><td>60</td><td>0</td><td>0.23650108</td><td>0.35475162, 0.6666667</td><tr><td>14</td><td>286</td><td>【周末专场】日本 JILL STUART吉尔•斯图尔特梦幻四色腮红01# baby bulsh 8g<238包邮></td><td></td><td></td><td>0</td><td>62</td><td>0</td><td>0.23265557</td><td>0.6979667, 0.33333334</td><tr><td>15</td><td>1274</td><td>Miss Candy健康指彩 卡梅尔栗色彩点 16ml<55包邮></td><td>卡梅尔栗色彩点</td><td>五毒无味健康可剥</td><td>10</td><td>60</td><td>0</td><td>0.2235806</td><td>0.3353709, 0.6666667</td><tr><td>16</td><td>412</td><td>【女神盛典】美国 Kiehl's 契尔氏高保湿50ml<189包邮></td><td>契尔氏高保湿霜</td><td>保湿圣品，UP UP UP !</td><td>0</td><td>66</td><td>0</td><td>0.22257763</td><td>0.33386642, 0.6666667</td><tr><td>17</td><td>2369</td><td>中国SWEET PINK粉色安琪 甜心慕斯粉饼 7g〈35元包邮〉</td><td>粉色安琪甜心慕斯粉饼</td><td>清爽控油 轻盈贴肤</td><td>46</td><td>60</td><td>0</td><td>0.22047055</td><td>0.33070582, 0.6666667</td><tr><td>18</td><td>2129</td><td>LilyBell 丽丽贝尔化妆棉 222片/ 222片*2<最低19包邮></td><td>丽丽贝尔化妆棉222片</td><td>为你的保养锦上添花</td><td>38</td><td>100</td><td>0</td><td>0.22047007</td><td>0.3307051, 0.6666667</td><tr><td>19</td><td>370</td><td>【爆款】法国 Bioderma贝德玛洁肤液蓝水/粉水500ml两款可选<112包邮></td><td>贝德玛洁肤液</td><td>清洁卸妆合一</td><td>0</td><td>100</td><td>0</td><td>0.21719873</td><td>0.32579812, 0.6666667</td><tr><td>20</td><td>1647</td><td>Miss Candy健康指彩 凡尔赛花园系列 16ml <55包邮></td><td>糖果小姐凡尔赛花园</td><td>无毒无味健康可剥</td><td>22</td><td>62</td><td>0</td><td>0.21432796</td><td>0.32149196, 0.6666667</td>"
      ],
      "text/plain": [
       "<IPython.core.display.HTML object>"
      ]
     },
     "metadata": {},
     "output_type": "display_data"
    }
   ],
   "source": [
    "# 查询测试\n",
    "\n",
    "import MySQLdb\n",
    "import elasticsearch\n",
    "from elasticsearch.helpers import bulk, streaming_bulk\n",
    "from IPython.display import display, HTML\n",
    "from elasticsearch_dsl import F, Q, Search\n",
    "\n",
    "es = elasticsearch.Elasticsearch('http://172.16.1.30:9200')\n",
    "INDEX = 'meila_wares'\n",
    "TYPE = 'wares'\n",
    "\n",
    "\n",
    "#q = raw_input('请输入关键词：')\n",
    "q = \"美白柔肤水\"\n",
    "\n",
    "\n",
    "if not q: q = u'美白 面膜'\n",
    "\n",
    "s = Search(es, index=INDEX, doc_type=TYPE)\n",
    "\n",
    "# 查询 DSL\n",
    "#s = s.query(    \n",
    "#Q('bool', should=[Q('constant_score', boost=1.0, query=Q('match', name=dict(query=q, operator='or')))]\n",
    "#                  , minimum_should_match=3)\n",
    "#)\n",
    "\n",
    "#s = s.query(\"match\", name=dict(query=q, operator='or')).query('match', short_name=dict(query=q, operator='or'))\n",
    "s = s.query(Q('bool', must=[Q('match', name=dict(query=q, operator='or'))], boost=1, disable_coord=True) |\n",
    "            Q('bool', must=[Q('match', short_name=dict(query=q, operator='or'))], boost=0.2, disable_coord=True) |\n",
    "           Q('bool', must=[Q('match', short_intro=dict(query=q, operator='or'))], boost=0.1, disable_coord=True))\n",
    "\n",
    "#s = s.query(Q('multi_match', fields=[\"name^10\", \"short_name^2\", \"short_intro\"], query=q, tie_breaker=0.99, operator=\"or\"))\n",
    "\n",
    "#s = s.query(Q('dis_max', tie_breaker=1.0, queries=[Q('match', name=dict(query=q, operator='or')),\n",
    "#                                                   Q('match', short_name=dict(query=q, operator='or')),\n",
    "#                                                  Q('match', short_intro=dict(query=q, operator='or')),]))\n",
    "\n",
    "#s = s.query(Q('dismax', fields=[\"name^10\", \"short_name^2\", \"short_intro\"], query=q, tie_breaker=1))\n",
    "\n",
    "s = s.params(explain=True)\n",
    "\n",
    " #排序\n",
    "#s = s.sort({\"_script\": {\n",
    "#            \"script\": \"_score * 68.0 + doc['display_score'].value * 0.5 + doc['sale_score'].value * 0.3 + doc['comment_score'].value * 0.2\",\n",
    "#            \"type\": \"number\", \"order\": \"desc\", \"lang\": \"groovy\"}})\n",
    "\n",
    "# 分页\n",
    "s = s[:20]\n",
    "\n",
    "#import json\n",
    "#import pprint\n",
    "#pprint.pprint(json.dumps(s.to_dict()))\n",
    "display(s.to_dict())\n",
    "\n",
    "r = s.execute()\n",
    "\n",
    "htmls = [u'<br><br>'\n",
    "         u'<table>'\n",
    "        u'<tr>'\n",
    "        u'<th>#</th>'\n",
    "        u'<th>ID</th>'\n",
    "        u'<th>标题</th>'\n",
    "        u'<th>短标题</th>'\n",
    "        u'<th>短描述</th>'\n",
    "        u'<th>销量分数</th>'\n",
    "        u'<th>点评分数</th>'\n",
    "        u'<th>设置的分数</th>'\n",
    "        u'<th>ES分数</th>'\n",
    "         u'<th>解释</th>'\n",
    "       ]\n",
    "\n",
    "for idx, doc in enumerate(r):\n",
    "     htmls.extend([u'<tr>'\n",
    "                  u'<td>{idx}</td>'.format(idx=idx+1),\n",
    "                  u'<td>{id}</td>'.format(id=doc.id),\n",
    "                  u'<td>{name}</td>'.format(name=doc.name),\n",
    "                  u'<td>{short_name}</td>'.format(short_name=doc.short_name),\n",
    "                  u'<td>{short_intro}</td>'.format(short_intro=doc.short_intro),\n",
    "                  u'<td>{sale_score}</td>'.format(sale_score=doc.sale_score),\n",
    "                  u'<td>{comment_score}</td>'.format(comment_score=doc.comment_score),\n",
    "                  u'<td>{display_score}</td>'.format(display_score=doc.display_score),\n",
    "                  u'<td>{es_score}</td>'.format(es_score=doc.meta.score),\n",
    "                  u'<td>{explanation}</td>'.format(explanation=', '.join([str(x.value) for x in doc.meta.explanation.details]))]\n",
    "                 )\n",
    "\n",
    "display(HTML(''.join(htmls)))"
   ]
  },
  {
   "cell_type": "code",
   "execution_count": null,
   "metadata": {
    "collapsed": true
   },
   "outputs": [],
   "source": []
  }
 ],
 "metadata": {
  "kernelspec": {
   "display_name": "Python 2",
   "language": "python",
   "name": "python2"
  },
  "language_info": {
   "codemirror_mode": {
    "name": "ipython",
    "version": 2
   },
   "file_extension": ".py",
   "mimetype": "text/x-python",
   "name": "python",
   "nbconvert_exporter": "python",
   "pygments_lexer": "ipython2",
   "version": "2.7.6"
  }
 },
 "nbformat": 4,
 "nbformat_minor": 0
}
